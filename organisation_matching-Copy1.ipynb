{
 "cells": [
  {
   "cell_type": "code",
   "execution_count": null,
   "id": "639029d3",
   "metadata": {},
   "outputs": [],
   "source": [
    "'''\n",
    "OSCAR organisation matching with ONS lists\n",
    "\n",
    "Want to compare with fuzzy matching, the list of ONS public bodies from the last 15 years \n",
    "and the organisations listed in the OSCAR dataset\n",
    "\n",
    "Push the output out for manual checking of organisation matching\n",
    "\n",
    "'''"
   ]
  },
  {
   "cell_type": "code",
   "execution_count": null,
   "id": "2b548d38",
   "metadata": {},
   "outputs": [],
   "source": [
    "# upadting this to run against the 'Unfound organisation list'"
   ]
  },
  {
   "cell_type": "code",
   "execution_count": 1,
   "id": "24bc76c5",
   "metadata": {},
   "outputs": [
    {
     "name": "stderr",
     "output_type": "stream",
     "text": [
      "C:\\Users\\shepleyp\\AppData\\Local\\Programs\\Python\\Python310\\lib\\site-packages\\thefuzz\\fuzz.py:11: UserWarning: Using slow pure-python SequenceMatcher. Install python-Levenshtein to remove this warning\n",
      "  warnings.warn('Using slow pure-python SequenceMatcher. Install python-Levenshtein to remove this warning')\n"
     ]
    }
   ],
   "source": [
    "import pandas as pd\n",
    "import numpy as np\n",
    "\n",
    "from __future__ import unicode_literals\n",
    "import unittest\n",
    "import re\n",
    "import sys\n",
    "import pycodestyle\n",
    "\n",
    "from thefuzz import fuzz\n",
    "from thefuzz import process\n",
    "from thefuzz import utils\n",
    "from thefuzz.string_processing import StringProcessor"
   ]
  },
  {
   "cell_type": "code",
   "execution_count": 19,
   "id": "c4031b8a",
   "metadata": {},
   "outputs": [
    {
     "data": {
      "text/plain": [
       "163"
      ]
     },
     "execution_count": 19,
     "metadata": {},
     "output_type": "execute_result"
    }
   ],
   "source": [
    "len(unique_unfound)"
   ]
  },
  {
   "cell_type": "code",
   "execution_count": 18,
   "id": "9b7670f5",
   "metadata": {},
   "outputs": [],
   "source": [
    "# read in the unfound organisations and simplify into unique list\n",
    "unfound_organisations = pd.read_excel('oscar_2021_22_release_summaried_4.xlsx', sheet_name='unfound')\n",
    "\n",
    "# assemble all unfound organsiations\n",
    "for j in range(1, unfound_organisations.shape[1]):\n",
    "    \n",
    "    if j == 1:\n",
    "        unfound_list = unfound_organisations.iloc[:, j].tolist()\n",
    "    else:\n",
    "        unfound_list.extend(unfound_organisations.iloc[:, j].tolist())\n",
    "        \n",
    "# extract the unique elements\n",
    "unique_unfound = set(unfound_list)\n",
    "# drop weird nan values\n",
    "unique_unfound = [x for x in unique_unfound if str(x) != 'nan']\n"
   ]
  },
  {
   "cell_type": "code",
   "execution_count": 3,
   "id": "cf7fb9e2",
   "metadata": {},
   "outputs": [],
   "source": [
    "# oscar_orgs = oscar[['ORGANISATION_LONG_NAME', 'ORGANISATION_CODE']] "
   ]
  },
  {
   "cell_type": "code",
   "execution_count": 20,
   "id": "4070904a",
   "metadata": {},
   "outputs": [],
   "source": [
    "# read in the ONS list from excel file\n",
    "\n",
    "ons_orgs = pd.read_excel('211004 Comparison of CO and ONS public bodies lists.xlsx', sheet_name='ONS Sep 21')\n",
    "\n"
   ]
  },
  {
   "cell_type": "code",
   "execution_count": 21,
   "id": "0abfafb6",
   "metadata": {},
   "outputs": [],
   "source": [
    "# reduce this to a list of organisations\n",
    "red_ons_orgs = ons_orgs['Organisation'].tolist()"
   ]
  },
  {
   "cell_type": "code",
   "execution_count": null,
   "id": "4bc4fb59",
   "metadata": {},
   "outputs": [],
   "source": [
    "# now need to compare the two reduced (red_) organisation lists using thefuzz!"
   ]
  },
  {
   "cell_type": "code",
   "execution_count": 25,
   "id": "bbcf1ba9",
   "metadata": {},
   "outputs": [],
   "source": [
    "thresh_score = 70\n",
    "\n",
    "for j in range(0, len(unique_unfound)): #list_oscar_orgs)):\n",
    "    # compare with with all the entries in the ONS list\n",
    "    \n",
    "    match = process.extract(unique_unfound[j], red_ons_orgs, scorer=fuzz.token_sort_ratio)\n",
    "    \n",
    "    # get the scores and max_match score\n",
    "    [match_text, match_score] = take_max_match(match)\n",
    "    \n",
    "    # only take a match if the score is above a threshold\n",
    "    if match_score >= thresh_score:\n",
    "        # find the organisation code\n",
    "        oscar_name = unique_unfound[j]\n",
    "        ons_name = match_text\n",
    "        fail_name = ''\n",
    "    else:\n",
    "        # nothing found\n",
    "        oscar_name = unique_unfound[j]\n",
    "        ons_name = 'none'\n",
    "        fail_name = match_text\n",
    "        \n",
    "    # build lists for comparing\n",
    "    if j == 0:\n",
    "        all_oscar_names = [oscar_name]\n",
    "        all_ons_names = [ons_name]\n",
    "        all_match_scores = [match_score]\n",
    "        all_fail_names = [fail_name]\n",
    "    else:\n",
    "        all_oscar_names.append(oscar_name)\n",
    "        all_ons_names.append(ons_name)\n",
    "        all_match_scores.append(match_score)\n",
    "        all_fail_names.append(fail_name)\n",
    "        \n",
    "# assemble lists into a dataframe\n",
    "matched_organisations = pd.DataFrame({'ORGANISATION_LONG_NAME': all_oscar_names,\n",
    "                                     'ONS names': all_ons_names,\n",
    "                                     'Match score': all_match_scores,\n",
    "                                     'Failed matched names': all_fail_names})\n",
    "    \n",
    "matched_organisations.to_excel('oscar_organisation_matching_unfound.xlsx', sheet_name='2022_12_16')\n",
    "    "
   ]
  },
  {
   "cell_type": "code",
   "execution_count": 24,
   "id": "556c04ff",
   "metadata": {},
   "outputs": [],
   "source": [
    "# take the max match\n",
    "def take_max_match(match):\n",
    "    \n",
    "    for j in range(0, len(match)):\n",
    "        # extract the scores\n",
    "        if j == 0:\n",
    "            scores = [match[j][1]]\n",
    "        else:\n",
    "            scores.append(match[j][1])\n",
    "        \n",
    "    # find the max score\n",
    "    max_score = max(scores)\n",
    "\n",
    "    # index the max score\n",
    "    max_score_index = scores.index(max_score)\n",
    "\n",
    "    # take the result\n",
    "    match_text = match[max_score_index][0]\n",
    "    match_score = match[max_score_index][1]\n",
    "\n",
    "    return match_text, match_score\n",
    "    "
   ]
  },
  {
   "cell_type": "code",
   "execution_count": 19,
   "id": "2444263d",
   "metadata": {},
   "outputs": [
    {
     "data": {
      "text/plain": [
       "'The National Archives'"
      ]
     },
     "execution_count": 19,
     "metadata": {},
     "output_type": "execute_result"
    }
   ],
   "source": [
    "list_oscar_orgs[0]"
   ]
  },
  {
   "cell_type": "code",
   "execution_count": null,
   "id": "0dc79564",
   "metadata": {},
   "outputs": [],
   "source": []
  },
  {
   "cell_type": "code",
   "execution_count": 24,
   "id": "0a0b9ed1",
   "metadata": {},
   "outputs": [
    {
     "data": {
      "text/html": [
       "<div>\n",
       "<style scoped>\n",
       "    .dataframe tbody tr th:only-of-type {\n",
       "        vertical-align: middle;\n",
       "    }\n",
       "\n",
       "    .dataframe tbody tr th {\n",
       "        vertical-align: top;\n",
       "    }\n",
       "\n",
       "    .dataframe thead th {\n",
       "        text-align: right;\n",
       "    }\n",
       "</style>\n",
       "<table border=\"1\" class=\"dataframe\">\n",
       "  <thead>\n",
       "    <tr style=\"text-align: right;\">\n",
       "      <th></th>\n",
       "      <th>ORGANISATION_LONG_NAME</th>\n",
       "      <th>ORGANISATION_CODE</th>\n",
       "    </tr>\n",
       "  </thead>\n",
       "  <tbody>\n",
       "    <tr>\n",
       "      <th>0</th>\n",
       "      <td>The National Archives</td>\n",
       "      <td>TNA067</td>\n",
       "    </tr>\n",
       "    <tr>\n",
       "      <th>1</th>\n",
       "      <td>Government Actuary's Department</td>\n",
       "      <td>GAD031</td>\n",
       "    </tr>\n",
       "    <tr>\n",
       "      <th>2</th>\n",
       "      <td>Charity Commission</td>\n",
       "      <td>CHC009</td>\n",
       "    </tr>\n",
       "    <tr>\n",
       "      <th>3</th>\n",
       "      <td>National Savings and Investments</td>\n",
       "      <td>NSI049</td>\n",
       "    </tr>\n",
       "    <tr>\n",
       "      <th>4</th>\n",
       "      <td>Department for Education</td>\n",
       "      <td>DFE022</td>\n",
       "    </tr>\n",
       "    <tr>\n",
       "      <th>...</th>\n",
       "      <td>...</td>\n",
       "      <td>...</td>\n",
       "    </tr>\n",
       "    <tr>\n",
       "      <th>1845464</th>\n",
       "      <td>Department for Education</td>\n",
       "      <td>DFE022</td>\n",
       "    </tr>\n",
       "    <tr>\n",
       "      <th>1845465</th>\n",
       "      <td>Ministry of Defence</td>\n",
       "      <td>MOD017</td>\n",
       "    </tr>\n",
       "    <tr>\n",
       "      <th>1845466</th>\n",
       "      <td>Ministry of Justice</td>\n",
       "      <td>MOJ047</td>\n",
       "    </tr>\n",
       "    <tr>\n",
       "      <th>1845467</th>\n",
       "      <td>Home Office</td>\n",
       "      <td>HOF034</td>\n",
       "    </tr>\n",
       "    <tr>\n",
       "      <th>1845468</th>\n",
       "      <td>Ministry of Justice</td>\n",
       "      <td>MOJ047</td>\n",
       "    </tr>\n",
       "  </tbody>\n",
       "</table>\n",
       "<p>1845469 rows × 2 columns</p>\n",
       "</div>"
      ],
      "text/plain": [
       "                   ORGANISATION_LONG_NAME ORGANISATION_CODE\n",
       "0                   The National Archives            TNA067\n",
       "1         Government Actuary's Department            GAD031\n",
       "2                      Charity Commission            CHC009\n",
       "3        National Savings and Investments            NSI049\n",
       "4                Department for Education            DFE022\n",
       "...                                   ...               ...\n",
       "1845464          Department for Education            DFE022\n",
       "1845465               Ministry of Defence            MOD017\n",
       "1845466               Ministry of Justice            MOJ047\n",
       "1845467                       Home Office            HOF034\n",
       "1845468               Ministry of Justice            MOJ047\n",
       "\n",
       "[1845469 rows x 2 columns]"
      ]
     },
     "execution_count": 24,
     "metadata": {},
     "output_type": "execute_result"
    }
   ],
   "source": [
    "oscar_orgs"
   ]
  },
  {
   "cell_type": "code",
   "execution_count": null,
   "id": "324d06b8",
   "metadata": {},
   "outputs": [],
   "source": []
  },
  {
   "cell_type": "code",
   "execution_count": null,
   "id": "54dbaf41",
   "metadata": {},
   "outputs": [],
   "source": []
  },
  {
   "cell_type": "code",
   "execution_count": null,
   "id": "94a0e192",
   "metadata": {},
   "outputs": [],
   "source": []
  },
  {
   "cell_type": "code",
   "execution_count": 20,
   "id": "9f254c30",
   "metadata": {},
   "outputs": [
    {
     "data": {
      "text/plain": [
       "Index(['YEAR_NO', 'YEAR_SHORT_NAME', 'QUARTER_SHORT_NAME', 'MONTH_SHORT_NAME',\n",
       "       'BUDGETING_ORGANISATIONS_CODE', 'DEPARTMENT_GROUP_CODE',\n",
       "       'DEPARTMENT_GROUP_LONG_NAME', 'ORGANISATION_CODE',\n",
       "       'ORGANISATION_LONG_NAME', 'ORGANISATION_TYPE_CODE',\n",
       "       'ORGANISATION_TYPE_LONG_NAME', 'ORGANISATION_TYPE_L1_CODE',\n",
       "       'ORGANISATION_TYPE_L1_LONG_NAME', 'PESA_GROUP_CODE',\n",
       "       'PESA_GROUP_LONG_NAME', 'SR_GROUP_CODE', 'SR_GROUP_LONG_NAME',\n",
       "       'BX_VALIDATION_GROUP_CODE', 'BX_VALIDATION_GROUP_LONG_NAME',\n",
       "       'FO_VALIDATION_GROUP_CODE', 'FO_VALIDATION_GROUP_LONG_NAME',\n",
       "       'ACCOUNTING_ARRANGEMENTS_CODE', 'ACCOUNTING_ARRANGEMENTS_LONG_NAME',\n",
       "       'COUNTER_ORGANISATION_CODE', 'COUNTER_ORGANISATION_LONG_NAME',\n",
       "       'SEGMENT_L4_CODE', 'SEGMENT_L4_LONG_NAME', 'COFOG_L0_CODE',\n",
       "       'COFOG_L0_LONG_NAME', 'COFOG_L1_CODE', 'COFOG_L1_LONG_NAME',\n",
       "       'COFOG_L2_CODE', 'COFOG_L2_LONG_NAME', 'CONTROL_BUDGET_L0_LONG_NAME',\n",
       "       'CONTROL_BUDGET_L1_LONG_NAME', 'COVERAGE_LONG_NAME',\n",
       "       'ESTIMATES_ROW_CODE', 'ESTIMATES_ROW_LONG_NAME',\n",
       "       'NET_SUBHEAD_LONG_NAME', 'PESA11_CODE', 'PESA_LA_GRANTS_CODE',\n",
       "       'PESA_LG_CODE', 'PESA_SERVICES_LONG_NAME', 'PESA_REGIONAL_CODE',\n",
       "       'POLICY_RINGFENCE_CODE', 'ACCOUNTING_AUTHORITY_L0_CODE',\n",
       "       'ACCOUNTING_AUTHORITY_L1_LONG_NAME', 'SUB_FUNCTION_CODE',\n",
       "       'SUB_FUNCTION_LONG_NAME', 'FUNCTION_CODE', 'FUNCTION_LONG_NAME',\n",
       "       'ACCOUNTS_LONG_NAME', 'CHART_OF_ACCOUNTS_L5_CODE',\n",
       "       'CHART_OF_ACCOUNTS_L5_LONG_NAME', 'ECONOMIC_BUDGET_CODE',\n",
       "       'ECONOMIC_RINGFENCE_CODE', 'ECONOMIC_GROUP_CODE',\n",
       "       'ECONOMIC_GROUP_LONG_NAME', 'ECONOMIC_CATEGORY_CODE',\n",
       "       'ECONOMIC_CATEGORY_LONG_NAME', 'SECTOR_CODE', 'SECTOR_LONG_NAME',\n",
       "       'TES_CODE', 'TES_LONG_NAME', 'ESA_CODE', 'ESA_LONG_NAME',\n",
       "       'ESA_GROUP_CODE', 'ESA_GROUP_LONG_NAME', 'PSAT_CODE', 'PSAT_LONG_NAME',\n",
       "       'NA_AGGREGATE_CODE', 'NA_AGGREGATE_LONG_NAME',\n",
       "       'ESTIMATES_CATEGORY_CODE', 'ESTIMATES_SUB_CATEGORY_CODE',\n",
       "       'ESTIMATES_COLUMN_CODE', 'PESA_ECONOMIC_BUDGET_CODE',\n",
       "       'PESA_ECONOMIC_GROUP_CODE', 'INCOME_CATEGORY_SHORT_NAME', 'USAGE_CODE',\n",
       "       'STATUS_CODE', 'TYPE_CODE', 'TYPE_LONG_NAME', 'TYPE_GROUP_CODE',\n",
       "       'TYPE_GROUP_LONG_NAME', 'VERSION_CODE', 'FCT_LOAD_TYPE_CODE',\n",
       "       'FCT_LOAD_TYPE_LONG_NAME', 'ROW_DESCRIPTION', 'DATA_ID', 'AMOUNT',\n",
       "       'DATA_EFFECTIVE_DATETIME'],\n",
       "      dtype='object')"
      ]
     },
     "execution_count": 20,
     "metadata": {},
     "output_type": "execute_result"
    }
   ],
   "source": [
    "oscar.columns"
   ]
  },
  {
   "cell_type": "code",
   "execution_count": null,
   "id": "7a06552d",
   "metadata": {},
   "outputs": [],
   "source": []
  }
 ],
 "metadata": {
  "kernelspec": {
   "display_name": "Python 3 (ipykernel)",
   "language": "python",
   "name": "python3"
  },
  "language_info": {
   "codemirror_mode": {
    "name": "ipython",
    "version": 3
   },
   "file_extension": ".py",
   "mimetype": "text/x-python",
   "name": "python",
   "nbconvert_exporter": "python",
   "pygments_lexer": "ipython3",
   "version": "3.10.2"
  }
 },
 "nbformat": 4,
 "nbformat_minor": 5
}
